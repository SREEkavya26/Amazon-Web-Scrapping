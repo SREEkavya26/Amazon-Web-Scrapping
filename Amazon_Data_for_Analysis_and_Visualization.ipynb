{
  "nbformat": 4,
  "nbformat_minor": 0,
  "metadata": {
    "colab": {
      "name": "Amazon Data for Analysis and Visualization.ipynb",
      "provenance": []
    },
    "kernelspec": {
      "name": "python3",
      "display_name": "Python 3"
    },
    "language_info": {
      "name": "python"
    }
  },
  "cells": [
    {
      "cell_type": "code",
      "execution_count": 1,
      "metadata": {
        "id": "pkBL0MoFj53Z"
      },
      "outputs": [],
      "source": [
        "import numpy as np\n",
        "import pandas as pd\n",
        "import matplotlib.pyplot as plt\n",
        "%matplotlib inline"
      ]
    },
    {
      "cell_type": "code",
      "source": [
        "data=pd.read_csv(\"products_reviews_data.csv\") # dataset downloaded from Kaggle"
      ],
      "metadata": {
        "id": "NFB2t_G4lNie"
      },
      "execution_count": 2,
      "outputs": []
    },
    {
      "cell_type": "code",
      "source": [
        "print(data.info())"
      ],
      "metadata": {
        "colab": {
          "base_uri": "https://localhost:8080/"
        },
        "id": "kklw-XDfnx0J",
        "outputId": "caf87bf6-8e2c-4d80-a420-cab296934963"
      },
      "execution_count": 3,
      "outputs": [
        {
          "output_type": "stream",
          "name": "stdout",
          "text": [
            "<class 'pandas.core.frame.DataFrame'>\n",
            "RangeIndex: 1035462 entries, 0 to 1035461\n",
            "Data columns (total 4 columns):\n",
            " #   Column     Non-Null Count    Dtype \n",
            "---  ------     --------------    ----- \n",
            " 0   UserId     1035462 non-null  object\n",
            " 1   ProductId  1035462 non-null  object\n",
            " 2   Rating     1035462 non-null  int64 \n",
            " 3   TimeStamp  1035462 non-null  object\n",
            "dtypes: int64(1), object(3)\n",
            "memory usage: 31.6+ MB\n",
            "None\n"
          ]
        }
      ]
    },
    {
      "cell_type": "code",
      "source": [
        "data.shape"
      ],
      "metadata": {
        "colab": {
          "base_uri": "https://localhost:8080/"
        },
        "id": "YI670o1Gn0FP",
        "outputId": "52c220dd-4258-4e25-a19e-0d69aa869516"
      },
      "execution_count": 4,
      "outputs": [
        {
          "output_type": "execute_result",
          "data": {
            "text/plain": [
              "(1035462, 4)"
            ]
          },
          "metadata": {},
          "execution_count": 4
        }
      ]
    },
    {
      "cell_type": "code",
      "source": [
        "#python - show repeated values in a column\n",
        "data[data.duplicated(['ProductId'], keep=False)]"
      ],
      "metadata": {
        "colab": {
          "base_uri": "https://localhost:8080/",
          "height": 423
        },
        "id": "FT0gA5sTlR-X",
        "outputId": "6638df67-055a-4002-fb72-72ee4e322c87"
      },
      "execution_count": 5,
      "outputs": [
        {
          "output_type": "execute_result",
          "data": {
            "text/html": [
              "\n",
              "  <div id=\"df-cc296c19-0c60-4b48-b118-ef78547ae5c0\">\n",
              "    <div class=\"colab-df-container\">\n",
              "      <div>\n",
              "<style scoped>\n",
              "    .dataframe tbody tr th:only-of-type {\n",
              "        vertical-align: middle;\n",
              "    }\n",
              "\n",
              "    .dataframe tbody tr th {\n",
              "        vertical-align: top;\n",
              "    }\n",
              "\n",
              "    .dataframe thead th {\n",
              "        text-align: right;\n",
              "    }\n",
              "</style>\n",
              "<table border=\"1\" class=\"dataframe\">\n",
              "  <thead>\n",
              "    <tr style=\"text-align: right;\">\n",
              "      <th></th>\n",
              "      <th>UserId</th>\n",
              "      <th>ProductId</th>\n",
              "      <th>Rating</th>\n",
              "      <th>TimeStamp</th>\n",
              "    </tr>\n",
              "  </thead>\n",
              "  <tbody>\n",
              "    <tr>\n",
              "      <th>0</th>\n",
              "      <td>A11LY3HWXN3TLN</td>\n",
              "      <td>B000HKNFOQ</td>\n",
              "      <td>1</td>\n",
              "      <td>24-Sep-53</td>\n",
              "    </tr>\n",
              "    <tr>\n",
              "      <th>1</th>\n",
              "      <td>A11LYGOMCM2TXL</td>\n",
              "      <td>B000BJUFXW</td>\n",
              "      <td>2</td>\n",
              "      <td>14-Feb-04</td>\n",
              "    </tr>\n",
              "    <tr>\n",
              "      <th>2</th>\n",
              "      <td>A11LYLBKNHFAQH</td>\n",
              "      <td>B00008Z1PD</td>\n",
              "      <td>3</td>\n",
              "      <td>10-Jan-41</td>\n",
              "    </tr>\n",
              "    <tr>\n",
              "      <th>3</th>\n",
              "      <td>A11LYLCJKB5F74</td>\n",
              "      <td>B000GGMMEK</td>\n",
              "      <td>2</td>\n",
              "      <td>3-Jan-08</td>\n",
              "    </tr>\n",
              "    <tr>\n",
              "      <th>4</th>\n",
              "      <td>A11LZVCM4AL49C</td>\n",
              "      <td>B00007E7JU</td>\n",
              "      <td>5</td>\n",
              "      <td>11-Apr-78</td>\n",
              "    </tr>\n",
              "    <tr>\n",
              "      <th>...</th>\n",
              "      <td>...</td>\n",
              "      <td>...</td>\n",
              "      <td>...</td>\n",
              "      <td>...</td>\n",
              "    </tr>\n",
              "    <tr>\n",
              "      <th>1035456</th>\n",
              "      <td>AZZYXVW7BAJVD</td>\n",
              "      <td>B000F763NG</td>\n",
              "      <td>5</td>\n",
              "      <td>1-Apr-47</td>\n",
              "    </tr>\n",
              "    <tr>\n",
              "      <th>1035458</th>\n",
              "      <td>AZZZEWADNFNUM</td>\n",
              "      <td>B00004RG6K</td>\n",
              "      <td>2</td>\n",
              "      <td>29-Sep-47</td>\n",
              "    </tr>\n",
              "    <tr>\n",
              "      <th>1035459</th>\n",
              "      <td>AZZZEWADNFNUM</td>\n",
              "      <td>B00004Y7ZP</td>\n",
              "      <td>5</td>\n",
              "      <td>23-Nov-87</td>\n",
              "    </tr>\n",
              "    <tr>\n",
              "      <th>1035460</th>\n",
              "      <td>AZZZJXM9GW3C5</td>\n",
              "      <td>B000FGEC94</td>\n",
              "      <td>5</td>\n",
              "      <td>6-Sep-43</td>\n",
              "    </tr>\n",
              "    <tr>\n",
              "      <th>1035461</th>\n",
              "      <td>AZZZOVIBXHGDR</td>\n",
              "      <td>B0002BEXNM</td>\n",
              "      <td>1</td>\n",
              "      <td>9-Sep-93</td>\n",
              "    </tr>\n",
              "  </tbody>\n",
              "</table>\n",
              "<p>1017202 rows × 4 columns</p>\n",
              "</div>\n",
              "      <button class=\"colab-df-convert\" onclick=\"convertToInteractive('df-cc296c19-0c60-4b48-b118-ef78547ae5c0')\"\n",
              "              title=\"Convert this dataframe to an interactive table.\"\n",
              "              style=\"display:none;\">\n",
              "        \n",
              "  <svg xmlns=\"http://www.w3.org/2000/svg\" height=\"24px\"viewBox=\"0 0 24 24\"\n",
              "       width=\"24px\">\n",
              "    <path d=\"M0 0h24v24H0V0z\" fill=\"none\"/>\n",
              "    <path d=\"M18.56 5.44l.94 2.06.94-2.06 2.06-.94-2.06-.94-.94-2.06-.94 2.06-2.06.94zm-11 1L8.5 8.5l.94-2.06 2.06-.94-2.06-.94L8.5 2.5l-.94 2.06-2.06.94zm10 10l.94 2.06.94-2.06 2.06-.94-2.06-.94-.94-2.06-.94 2.06-2.06.94z\"/><path d=\"M17.41 7.96l-1.37-1.37c-.4-.4-.92-.59-1.43-.59-.52 0-1.04.2-1.43.59L10.3 9.45l-7.72 7.72c-.78.78-.78 2.05 0 2.83L4 21.41c.39.39.9.59 1.41.59.51 0 1.02-.2 1.41-.59l7.78-7.78 2.81-2.81c.8-.78.8-2.07 0-2.86zM5.41 20L4 18.59l7.72-7.72 1.47 1.35L5.41 20z\"/>\n",
              "  </svg>\n",
              "      </button>\n",
              "      \n",
              "  <style>\n",
              "    .colab-df-container {\n",
              "      display:flex;\n",
              "      flex-wrap:wrap;\n",
              "      gap: 12px;\n",
              "    }\n",
              "\n",
              "    .colab-df-convert {\n",
              "      background-color: #E8F0FE;\n",
              "      border: none;\n",
              "      border-radius: 50%;\n",
              "      cursor: pointer;\n",
              "      display: none;\n",
              "      fill: #1967D2;\n",
              "      height: 32px;\n",
              "      padding: 0 0 0 0;\n",
              "      width: 32px;\n",
              "    }\n",
              "\n",
              "    .colab-df-convert:hover {\n",
              "      background-color: #E2EBFA;\n",
              "      box-shadow: 0px 1px 2px rgba(60, 64, 67, 0.3), 0px 1px 3px 1px rgba(60, 64, 67, 0.15);\n",
              "      fill: #174EA6;\n",
              "    }\n",
              "\n",
              "    [theme=dark] .colab-df-convert {\n",
              "      background-color: #3B4455;\n",
              "      fill: #D2E3FC;\n",
              "    }\n",
              "\n",
              "    [theme=dark] .colab-df-convert:hover {\n",
              "      background-color: #434B5C;\n",
              "      box-shadow: 0px 1px 3px 1px rgba(0, 0, 0, 0.15);\n",
              "      filter: drop-shadow(0px 1px 2px rgba(0, 0, 0, 0.3));\n",
              "      fill: #FFFFFF;\n",
              "    }\n",
              "  </style>\n",
              "\n",
              "      <script>\n",
              "        const buttonEl =\n",
              "          document.querySelector('#df-cc296c19-0c60-4b48-b118-ef78547ae5c0 button.colab-df-convert');\n",
              "        buttonEl.style.display =\n",
              "          google.colab.kernel.accessAllowed ? 'block' : 'none';\n",
              "\n",
              "        async function convertToInteractive(key) {\n",
              "          const element = document.querySelector('#df-cc296c19-0c60-4b48-b118-ef78547ae5c0');\n",
              "          const dataTable =\n",
              "            await google.colab.kernel.invokeFunction('convertToInteractive',\n",
              "                                                     [key], {});\n",
              "          if (!dataTable) return;\n",
              "\n",
              "          const docLinkHtml = 'Like what you see? Visit the ' +\n",
              "            '<a target=\"_blank\" href=https://colab.research.google.com/notebooks/data_table.ipynb>data table notebook</a>'\n",
              "            + ' to learn more about interactive tables.';\n",
              "          element.innerHTML = '';\n",
              "          dataTable['output_type'] = 'display_data';\n",
              "          await google.colab.output.renderOutput(dataTable, element);\n",
              "          const docLink = document.createElement('div');\n",
              "          docLink.innerHTML = docLinkHtml;\n",
              "          element.appendChild(docLink);\n",
              "        }\n",
              "      </script>\n",
              "    </div>\n",
              "  </div>\n",
              "  "
            ],
            "text/plain": [
              "                 UserId   ProductId  Rating  TimeStamp\n",
              "0        A11LY3HWXN3TLN  B000HKNFOQ       1  24-Sep-53\n",
              "1        A11LYGOMCM2TXL  B000BJUFXW       2  14-Feb-04\n",
              "2        A11LYLBKNHFAQH  B00008Z1PD       3  10-Jan-41\n",
              "3        A11LYLCJKB5F74  B000GGMMEK       2   3-Jan-08\n",
              "4        A11LZVCM4AL49C  B00007E7JU       5  11-Apr-78\n",
              "...                 ...         ...     ...        ...\n",
              "1035456   AZZYXVW7BAJVD  B000F763NG       5   1-Apr-47\n",
              "1035458   AZZZEWADNFNUM  B00004RG6K       2  29-Sep-47\n",
              "1035459   AZZZEWADNFNUM  B00004Y7ZP       5  23-Nov-87\n",
              "1035460   AZZZJXM9GW3C5  B000FGEC94       5   6-Sep-43\n",
              "1035461   AZZZOVIBXHGDR  B0002BEXNM       1   9-Sep-93\n",
              "\n",
              "[1017202 rows x 4 columns]"
            ]
          },
          "metadata": {},
          "execution_count": 5
        }
      ]
    },
    {
      "cell_type": "code",
      "source": [
        "#count duplicates in one column pandas python \n",
        "data.pivot_table(index=['ProductId'], aggfunc='size')"
      ],
      "metadata": {
        "colab": {
          "base_uri": "https://localhost:8080/"
        },
        "id": "DWM9gql-lVwH",
        "outputId": "3bcb10b9-4bfe-4a84-b498-0ab765f0018d"
      },
      "execution_count": 6,
      "outputs": [
        {
          "output_type": "execute_result",
          "data": {
            "text/plain": [
              "ProductId\n",
              "059400232X      3\n",
              "089933623X      2\n",
              "1034385789      5\n",
              "1039869017      2\n",
              "1085901386      1\n",
              "             ... \n",
              "B000IF4788    991\n",
              "B000IF4FVC      1\n",
              "B000IF4G2A      1\n",
              "B000IF4TPY    153\n",
              "B000IF51UQ     66\n",
              "Length: 61676, dtype: int64"
            ]
          },
          "metadata": {},
          "execution_count": 6
        }
      ]
    },
    {
      "cell_type": "code",
      "source": [
        "#returns unique values.\n",
        "data['ProductId'].value_counts()"
      ],
      "metadata": {
        "colab": {
          "base_uri": "https://localhost:8080/"
        },
        "id": "Ni8RUrxxoroc",
        "outputId": "aea04de3-7116-4df2-e233-ff32f82adfba"
      },
      "execution_count": 7,
      "outputs": [
        {
          "output_type": "execute_result",
          "data": {
            "text/plain": [
              "B0002L5R78    9339\n",
              "B0001FTVEK    5271\n",
              "B000I68BD4    4828\n",
              "B000BQ7GW8    4217\n",
              "B00007E7JU    3490\n",
              "              ... \n",
              "B00005JDE0       1\n",
              "9981737593       1\n",
              "B00006HSAU       1\n",
              "B000HB9KUI       1\n",
              "B00009R6VD       1\n",
              "Name: ProductId, Length: 61676, dtype: int64"
            ]
          },
          "metadata": {},
          "execution_count": 7
        }
      ]
    },
    {
      "cell_type": "code",
      "source": [
        "#filtering customers who have given ratings>40 \n",
        "data1=data.groupby('UserId').filter(lambda x : len(x) > 40)\n",
        "data1"
      ],
      "metadata": {
        "colab": {
          "base_uri": "https://localhost:8080/",
          "height": 423
        },
        "id": "sMp4GrZIlYbN",
        "outputId": "ffa0869e-535b-4bab-a196-a1982666abd7"
      },
      "execution_count": 8,
      "outputs": [
        {
          "output_type": "execute_result",
          "data": {
            "text/html": [
              "\n",
              "  <div id=\"df-b6186cae-036d-4052-8c45-828893e31b9a\">\n",
              "    <div class=\"colab-df-container\">\n",
              "      <div>\n",
              "<style scoped>\n",
              "    .dataframe tbody tr th:only-of-type {\n",
              "        vertical-align: middle;\n",
              "    }\n",
              "\n",
              "    .dataframe tbody tr th {\n",
              "        vertical-align: top;\n",
              "    }\n",
              "\n",
              "    .dataframe thead th {\n",
              "        text-align: right;\n",
              "    }\n",
              "</style>\n",
              "<table border=\"1\" class=\"dataframe\">\n",
              "  <thead>\n",
              "    <tr style=\"text-align: right;\">\n",
              "      <th></th>\n",
              "      <th>UserId</th>\n",
              "      <th>ProductId</th>\n",
              "      <th>Rating</th>\n",
              "      <th>TimeStamp</th>\n",
              "    </tr>\n",
              "  </thead>\n",
              "  <tbody>\n",
              "    <tr>\n",
              "      <th>5688</th>\n",
              "      <td>A12DLJESJKM1OQ</td>\n",
              "      <td>B00000JXV3</td>\n",
              "      <td>4</td>\n",
              "      <td>1-May-15</td>\n",
              "    </tr>\n",
              "    <tr>\n",
              "      <th>5689</th>\n",
              "      <td>A12DLJESJKM1OQ</td>\n",
              "      <td>B00004SD8X</td>\n",
              "      <td>5</td>\n",
              "      <td>17-Dec-85</td>\n",
              "    </tr>\n",
              "    <tr>\n",
              "      <th>5690</th>\n",
              "      <td>A12DLJESJKM1OQ</td>\n",
              "      <td>B00005ABEH</td>\n",
              "      <td>3</td>\n",
              "      <td>29-Jan-84</td>\n",
              "    </tr>\n",
              "    <tr>\n",
              "      <th>5691</th>\n",
              "      <td>A12DLJESJKM1OQ</td>\n",
              "      <td>B00005B9A0</td>\n",
              "      <td>5</td>\n",
              "      <td>18-May-01</td>\n",
              "    </tr>\n",
              "    <tr>\n",
              "      <th>5692</th>\n",
              "      <td>A12DLJESJKM1OQ</td>\n",
              "      <td>B00005N6KF</td>\n",
              "      <td>2</td>\n",
              "      <td>13-Apr-08</td>\n",
              "    </tr>\n",
              "    <tr>\n",
              "      <th>...</th>\n",
              "      <td>...</td>\n",
              "      <td>...</td>\n",
              "      <td>...</td>\n",
              "      <td>...</td>\n",
              "    </tr>\n",
              "    <tr>\n",
              "      <th>1010457</th>\n",
              "      <td>AWPODHOB4GFWL</td>\n",
              "      <td>B000FNDWLQ</td>\n",
              "      <td>3</td>\n",
              "      <td>6-Mar-92</td>\n",
              "    </tr>\n",
              "    <tr>\n",
              "      <th>1010458</th>\n",
              "      <td>AWPODHOB4GFWL</td>\n",
              "      <td>B000HCGAFK</td>\n",
              "      <td>5</td>\n",
              "      <td>27-Nov-31</td>\n",
              "    </tr>\n",
              "    <tr>\n",
              "      <th>1010459</th>\n",
              "      <td>AWPODHOB4GFWL</td>\n",
              "      <td>B000HLZXH2</td>\n",
              "      <td>4</td>\n",
              "      <td>27-Apr-54</td>\n",
              "    </tr>\n",
              "    <tr>\n",
              "      <th>1010460</th>\n",
              "      <td>AWPODHOB4GFWL</td>\n",
              "      <td>B000HS3O2G</td>\n",
              "      <td>4</td>\n",
              "      <td>7-Oct-15</td>\n",
              "    </tr>\n",
              "    <tr>\n",
              "      <th>1010461</th>\n",
              "      <td>AWPODHOB4GFWL</td>\n",
              "      <td>B000IF4788</td>\n",
              "      <td>4</td>\n",
              "      <td>1-Apr-16</td>\n",
              "    </tr>\n",
              "  </tbody>\n",
              "</table>\n",
              "<p>4531 rows × 4 columns</p>\n",
              "</div>\n",
              "      <button class=\"colab-df-convert\" onclick=\"convertToInteractive('df-b6186cae-036d-4052-8c45-828893e31b9a')\"\n",
              "              title=\"Convert this dataframe to an interactive table.\"\n",
              "              style=\"display:none;\">\n",
              "        \n",
              "  <svg xmlns=\"http://www.w3.org/2000/svg\" height=\"24px\"viewBox=\"0 0 24 24\"\n",
              "       width=\"24px\">\n",
              "    <path d=\"M0 0h24v24H0V0z\" fill=\"none\"/>\n",
              "    <path d=\"M18.56 5.44l.94 2.06.94-2.06 2.06-.94-2.06-.94-.94-2.06-.94 2.06-2.06.94zm-11 1L8.5 8.5l.94-2.06 2.06-.94-2.06-.94L8.5 2.5l-.94 2.06-2.06.94zm10 10l.94 2.06.94-2.06 2.06-.94-2.06-.94-.94-2.06-.94 2.06-2.06.94z\"/><path d=\"M17.41 7.96l-1.37-1.37c-.4-.4-.92-.59-1.43-.59-.52 0-1.04.2-1.43.59L10.3 9.45l-7.72 7.72c-.78.78-.78 2.05 0 2.83L4 21.41c.39.39.9.59 1.41.59.51 0 1.02-.2 1.41-.59l7.78-7.78 2.81-2.81c.8-.78.8-2.07 0-2.86zM5.41 20L4 18.59l7.72-7.72 1.47 1.35L5.41 20z\"/>\n",
              "  </svg>\n",
              "      </button>\n",
              "      \n",
              "  <style>\n",
              "    .colab-df-container {\n",
              "      display:flex;\n",
              "      flex-wrap:wrap;\n",
              "      gap: 12px;\n",
              "    }\n",
              "\n",
              "    .colab-df-convert {\n",
              "      background-color: #E8F0FE;\n",
              "      border: none;\n",
              "      border-radius: 50%;\n",
              "      cursor: pointer;\n",
              "      display: none;\n",
              "      fill: #1967D2;\n",
              "      height: 32px;\n",
              "      padding: 0 0 0 0;\n",
              "      width: 32px;\n",
              "    }\n",
              "\n",
              "    .colab-df-convert:hover {\n",
              "      background-color: #E2EBFA;\n",
              "      box-shadow: 0px 1px 2px rgba(60, 64, 67, 0.3), 0px 1px 3px 1px rgba(60, 64, 67, 0.15);\n",
              "      fill: #174EA6;\n",
              "    }\n",
              "\n",
              "    [theme=dark] .colab-df-convert {\n",
              "      background-color: #3B4455;\n",
              "      fill: #D2E3FC;\n",
              "    }\n",
              "\n",
              "    [theme=dark] .colab-df-convert:hover {\n",
              "      background-color: #434B5C;\n",
              "      box-shadow: 0px 1px 3px 1px rgba(0, 0, 0, 0.15);\n",
              "      filter: drop-shadow(0px 1px 2px rgba(0, 0, 0, 0.3));\n",
              "      fill: #FFFFFF;\n",
              "    }\n",
              "  </style>\n",
              "\n",
              "      <script>\n",
              "        const buttonEl =\n",
              "          document.querySelector('#df-b6186cae-036d-4052-8c45-828893e31b9a button.colab-df-convert');\n",
              "        buttonEl.style.display =\n",
              "          google.colab.kernel.accessAllowed ? 'block' : 'none';\n",
              "\n",
              "        async function convertToInteractive(key) {\n",
              "          const element = document.querySelector('#df-b6186cae-036d-4052-8c45-828893e31b9a');\n",
              "          const dataTable =\n",
              "            await google.colab.kernel.invokeFunction('convertToInteractive',\n",
              "                                                     [key], {});\n",
              "          if (!dataTable) return;\n",
              "\n",
              "          const docLinkHtml = 'Like what you see? Visit the ' +\n",
              "            '<a target=\"_blank\" href=https://colab.research.google.com/notebooks/data_table.ipynb>data table notebook</a>'\n",
              "            + ' to learn more about interactive tables.';\n",
              "          element.innerHTML = '';\n",
              "          dataTable['output_type'] = 'display_data';\n",
              "          await google.colab.output.renderOutput(dataTable, element);\n",
              "          const docLink = document.createElement('div');\n",
              "          docLink.innerHTML = docLinkHtml;\n",
              "          element.appendChild(docLink);\n",
              "        }\n",
              "      </script>\n",
              "    </div>\n",
              "  </div>\n",
              "  "
            ],
            "text/plain": [
              "                 UserId   ProductId  Rating  TimeStamp\n",
              "5688     A12DLJESJKM1OQ  B00000JXV3       4   1-May-15\n",
              "5689     A12DLJESJKM1OQ  B00004SD8X       5  17-Dec-85\n",
              "5690     A12DLJESJKM1OQ  B00005ABEH       3  29-Jan-84\n",
              "5691     A12DLJESJKM1OQ  B00005B9A0       5  18-May-01\n",
              "5692     A12DLJESJKM1OQ  B00005N6KF       2  13-Apr-08\n",
              "...                 ...         ...     ...        ...\n",
              "1010457   AWPODHOB4GFWL  B000FNDWLQ       3   6-Mar-92\n",
              "1010458   AWPODHOB4GFWL  B000HCGAFK       5  27-Nov-31\n",
              "1010459   AWPODHOB4GFWL  B000HLZXH2       4  27-Apr-54\n",
              "1010460   AWPODHOB4GFWL  B000HS3O2G       4   7-Oct-15\n",
              "1010461   AWPODHOB4GFWL  B000IF4788       4   1-Apr-16\n",
              "\n",
              "[4531 rows x 4 columns]"
            ]
          },
          "metadata": {},
          "execution_count": 8
        }
      ]
    },
    {
      "cell_type": "markdown",
      "source": [
        "#checking frequency of rating of each userId\n",
        "\n"
      ],
      "metadata": {
        "id": "xMgXxwjK4y4W"
      }
    },
    {
      "cell_type": "code",
      "source": [
        "from collections import Counter\n",
        "col1=data1[\"UserId\"]\n",
        "col1#customerId who have given rating >40times"
      ],
      "metadata": {
        "colab": {
          "base_uri": "https://localhost:8080/"
        },
        "id": "FY_YEKgwzi0t",
        "outputId": "f3c7d185-281f-4555-a627-fd3a73f4b744"
      },
      "execution_count": 9,
      "outputs": [
        {
          "output_type": "execute_result",
          "data": {
            "text/plain": [
              "5688       A12DLJESJKM1OQ\n",
              "5689       A12DLJESJKM1OQ\n",
              "5690       A12DLJESJKM1OQ\n",
              "5691       A12DLJESJKM1OQ\n",
              "5692       A12DLJESJKM1OQ\n",
              "                ...      \n",
              "1010457     AWPODHOB4GFWL\n",
              "1010458     AWPODHOB4GFWL\n",
              "1010459     AWPODHOB4GFWL\n",
              "1010460     AWPODHOB4GFWL\n",
              "1010461     AWPODHOB4GFWL\n",
              "Name: UserId, Length: 4531, dtype: object"
            ]
          },
          "metadata": {},
          "execution_count": 9
        }
      ]
    },
    {
      "cell_type": "code",
      "source": [
        "counts=Counter(col1)\n",
        "counts #frequency of rating of each userid"
      ],
      "metadata": {
        "colab": {
          "base_uri": "https://localhost:8080/"
        },
        "id": "KKWPADaB0GZY",
        "outputId": "edc25e42-9c18-48b9-cfaf-f550984a89b7"
      },
      "execution_count": 10,
      "outputs": [
        {
          "output_type": "execute_result",
          "data": {
            "text/plain": [
              "Counter({'A12DLJESJKM1OQ': 65,\n",
              "         'A1435P5AMCPB3X': 69,\n",
              "         'A149RNR5RH19YY': 68,\n",
              "         'A15QYHQH80W30L': 54,\n",
              "         'A1CPRP3VFJRS1R': 43,\n",
              "         'A1EKSETIBS9ETQ': 49,\n",
              "         'A1F9Z42CFF9IAY': 76,\n",
              "         'A1FR68QH6Z4YZM': 75,\n",
              "         'A1JUBRIZMO0RJV': 41,\n",
              "         'A1JWSDDIH5Z7DV': 72,\n",
              "         'A1KD8NJPZ01R37': 48,\n",
              "         'A1MJMYLRTZ76ZX': 74,\n",
              "         'A1N2D7LLBAY25B': 41,\n",
              "         'A1NNMOD9H36Q8E': 46,\n",
              "         'A1ODOGXEYECQQ8': 60,\n",
              "         'A1RPTVW5VEOSI': 63,\n",
              "         'A1UEL5C1N6E5SE': 47,\n",
              "         'A1VQHH85U7PX0': 57,\n",
              "         'A1VVRA3P6G1TWH': 42,\n",
              "         'A203OCQQ12MAVT': 90,\n",
              "         'A231WM2Z2JL0U3': 249,\n",
              "         'A23ONMGKEWDG4M': 41,\n",
              "         'A250AXLRBVYKB4': 50,\n",
              "         'A25FL6VLD7S23S': 42,\n",
              "         'A25HBO5V8S8SEA': 164,\n",
              "         'A291XTI6NO7DEG': 42,\n",
              "         'A2AEZQ3DGBBLPR': 85,\n",
              "         'A2AY4YUOX2N1BQ': 63,\n",
              "         'A2B7BUH8834Y6M': 103,\n",
              "         'A2BGZ52M908MJY': 54,\n",
              "         'A2CL818RN52NWN': 64,\n",
              "         'A2HPJKM7L4EOQB': 42,\n",
              "         'A2JRDFIGWTX50J': 46,\n",
              "         'A2PSD2R9A1CXG7': 47,\n",
              "         'A2R6RA8FRBS608': 88,\n",
              "         'A2UQK3DAZ8NO2T': 43,\n",
              "         'A2XRMQA6PJ5ZJ8': 63,\n",
              "         'A2YHXGPCTENZY3': 42,\n",
              "         'A2ZR3YTMEEIIZ4': 42,\n",
              "         'A31N0XY2UTB25C': 41,\n",
              "         'A32QOZWIKQDNZX': 45,\n",
              "         'A38QEATH3NODFM': 61,\n",
              "         'A3E68EBGXTWDNP': 46,\n",
              "         'A3NCIN6TNL0MGA': 54,\n",
              "         'A3OA4DV4L81N1D': 45,\n",
              "         'A3OXHLG6DIBRW8': 95,\n",
              "         'A5JLAU2ARJ0BO': 412,\n",
              "         'A680RUE1FDO8B': 78,\n",
              "         'A6FIAB28IS79': 146,\n",
              "         'A6VXZ1EEPRTLV': 42,\n",
              "         'A7QMQBGJ2TCQG': 46,\n",
              "         'A7Y6AVS576M03': 70,\n",
              "         'A8TZ88OM8YOLW': 43,\n",
              "         'ABH9D1TEOJ56E': 64,\n",
              "         'AD0J5KK4WQXNS': 47,\n",
              "         'ADLVFFE4VBT8': 41,\n",
              "         'AGHZXQL9F94T9': 75,\n",
              "         'AGXV8E7XK9J6H': 59,\n",
              "         'AKT8TGIT6VVZ5': 122,\n",
              "         'ALUNVOQRXOZIA': 53,\n",
              "         'ARBKYIVNYWK3C': 47,\n",
              "         'AT2J7H5TRZM8Z': 57,\n",
              "         'AT6CZDCP4TRGA': 128,\n",
              "         'AWPODHOB4GFWL': 64})"
            ]
          },
          "metadata": {},
          "execution_count": 10
        }
      ]
    },
    {
      "cell_type": "code",
      "source": [
        "p=data1.to_csv('ratingsGT40times.csv',header=1)"
      ],
      "metadata": {
        "id": "N0gEq0dJlbPq"
      },
      "execution_count": 11,
      "outputs": []
    },
    {
      "cell_type": "code",
      "source": [
        "import seaborn as sns\n",
        "sns.distplot(data['Rating'])"
      ],
      "metadata": {
        "colab": {
          "base_uri": "https://localhost:8080/",
          "height": 353
        },
        "id": "ECC_Wpm_3r-C",
        "outputId": "ce142db1-0654-4d95-d3ac-70fd0481d431"
      },
      "execution_count": 12,
      "outputs": [
        {
          "output_type": "stream",
          "name": "stderr",
          "text": [
            "/usr/local/lib/python3.7/dist-packages/seaborn/distributions.py:2619: FutureWarning: `distplot` is a deprecated function and will be removed in a future version. Please adapt your code to use either `displot` (a figure-level function with similar flexibility) or `histplot` (an axes-level function for histograms).\n",
            "  warnings.warn(msg, FutureWarning)\n"
          ]
        },
        {
          "output_type": "execute_result",
          "data": {
            "text/plain": [
              "<matplotlib.axes._subplots.AxesSubplot at 0x7f7b94e1ef10>"
            ]
          },
          "metadata": {},
          "execution_count": 12
        },
        {
          "output_type": "display_data",
          "data": {
            "image/png": "[encoded data removed]",
            "text/plain": [
              "<Figure size 432x288 with 1 Axes>"
            ]
          },
          "metadata": {
            "needs_background": "light"
          }
        }
      ]
    },
    {
      "cell_type": "code",
      "source": [
        "dic=dict(counts)\n",
        "print(dic.values())"
      ],
      "metadata": {
        "colab": {
          "base_uri": "https://localhost:8080/"
        },
        "id": "Tt9pXTXx5_G9",
        "outputId": "478e4994-d8f5-4881-8fc0-6d01d7976aaf"
      },
      "execution_count": 13,
      "outputs": [
        {
          "output_type": "stream",
          "name": "stdout",
          "text": [
            "dict_values([65, 69, 68, 54, 43, 49, 76, 75, 41, 72, 48, 74, 41, 46, 60, 63, 47, 57, 42, 90, 249, 41, 50, 42, 164, 42, 85, 63, 103, 54, 64, 42, 46, 47, 88, 43, 63, 42, 42, 41, 45, 61, 46, 54, 45, 95, 412, 78, 146, 42, 46, 70, 43, 64, 47, 41, 75, 59, 122, 53, 47, 57, 128, 64])\n"
          ]
        }
      ]
    },
    {
      "cell_type": "code",
      "source": [
        "df=list(dic.values())\n",
        "df"
      ],
      "metadata": {
        "colab": {
          "base_uri": "https://localhost:8080/"
        },
        "id": "KxSWWd9n6nji",
        "outputId": "afeaf13b-268b-4c2c-a989-234179906361"
      },
      "execution_count": 14,
      "outputs": [
        {
          "output_type": "execute_result",
          "data": {
            "text/plain": [
              "[65,\n",
              " 69,\n",
              " 68,\n",
              " 54,\n",
              " 43,\n",
              " 49,\n",
              " 76,\n",
              " 75,\n",
              " 41,\n",
              " 72,\n",
              " 48,\n",
              " 74,\n",
              " 41,\n",
              " 46,\n",
              " 60,\n",
              " 63,\n",
              " 47,\n",
              " 57,\n",
              " 42,\n",
              " 90,\n",
              " 249,\n",
              " 41,\n",
              " 50,\n",
              " 42,\n",
              " 164,\n",
              " 42,\n",
              " 85,\n",
              " 63,\n",
              " 103,\n",
              " 54,\n",
              " 64,\n",
              " 42,\n",
              " 46,\n",
              " 47,\n",
              " 88,\n",
              " 43,\n",
              " 63,\n",
              " 42,\n",
              " 42,\n",
              " 41,\n",
              " 45,\n",
              " 61,\n",
              " 46,\n",
              " 54,\n",
              " 45,\n",
              " 95,\n",
              " 412,\n",
              " 78,\n",
              " 146,\n",
              " 42,\n",
              " 46,\n",
              " 70,\n",
              " 43,\n",
              " 64,\n",
              " 47,\n",
              " 41,\n",
              " 75,\n",
              " 59,\n",
              " 122,\n",
              " 53,\n",
              " 47,\n",
              " 57,\n",
              " 128,\n",
              " 64]"
            ]
          },
          "metadata": {},
          "execution_count": 14
        }
      ]
    },
    {
      "cell_type": "code",
      "source": [
        "df1=pd.DataFrame(df)"
      ],
      "metadata": {
        "id": "kI-tgRIn6zw-"
      },
      "execution_count": 15,
      "outputs": []
    }
  ]
}